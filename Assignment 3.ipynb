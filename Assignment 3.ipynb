{
 "cells": [
  {
   "cell_type": "code",
   "execution_count": 4,
   "id": "b0b229da-80cd-43a6-bfa4-80fa0d236f98",
   "metadata": {},
   "outputs": [
    {
     "name": "stdout",
     "output_type": "stream",
     "text": [
      "Twinkle, twinkle, little star,\n",
      "\tHow I wonder what you are!\n",
      "\t\tUp above the world so high\n",
      "\t\tLike a diamond in the sky.\n",
      "Twinkle, twinkle, little star,\n",
      "\tHow I wonder what you are\n"
     ]
    }
   ],
   "source": [
    "print (\"Twinkle, twinkle, little star,\");\n",
    "print (\"\\tHow I wonder what you are!\");\n",
    "print (\"\\t\\tUp above the world so high\");\n",
    "print (\"\\t\\tLike a diamond in the sky.\");\n",
    "print (\"Twinkle, twinkle, little star,\");\n",
    "print (\"\\tHow I wonder what you are\");"
   ]
  },
  {
   "cell_type": "code",
   "execution_count": 10,
   "id": "31a8761c-c2d3-4e42-9f69-dd3d778c3f1c",
   "metadata": {},
   "outputs": [
    {
     "name": "stdout",
     "output_type": "stream",
     "text": [
      "Python 3.8.8\n"
     ]
    }
   ],
   "source": [
    "!python -V"
   ]
  },
  {
   "cell_type": "code",
   "execution_count": 1,
   "id": "b92ad75c-06e9-425b-becc-61cee9681355",
   "metadata": {},
   "outputs": [
    {
     "name": "stdout",
     "output_type": "stream",
     "text": [
      "Current date and time : \n",
      "2021-10-24 00:19:12\n"
     ]
    }
   ],
   "source": [
    "import datetime\n",
    "now = datetime.datetime.now()\n",
    "print (\"Current date and time : \")\n",
    "print (now.strftime(\"%Y-%m-%d %H:%M:%S\"))"
   ]
  },
  {
   "cell_type": "code",
   "execution_count": 2,
   "id": "487605d1-fbf9-4f20-8a20-71a699207d0b",
   "metadata": {},
   "outputs": [
    {
     "name": "stdin",
     "output_type": "stream",
     "text": [
      "Input the radius of the circle :  2.1\n"
     ]
    },
    {
     "name": "stdout",
     "output_type": "stream",
     "text": [
      "The area of the circle with radius 2.1 is: 13.854423602330987\n"
     ]
    }
   ],
   "source": [
    "from math import pi\n",
    "r = float(input (\"Input the radius of the circle : \"))\n",
    "print (\"The area of the circle with radius \" + str(r) + \" is: \" + str(pi * r**2))"
   ]
  },
  {
   "cell_type": "code",
   "execution_count": 13,
   "id": "e983621f-59b1-4af6-a958-6b0b011c570f",
   "metadata": {},
   "outputs": [
    {
     "name": "stdin",
     "output_type": "stream",
     "text": [
      "Input your First Name :  Azhar\n",
      "Input your Last Name :  Saeed\n"
     ]
    },
    {
     "name": "stdout",
     "output_type": "stream",
     "text": [
      "Reverse Name is: Saeed Azhar\n"
     ]
    }
   ],
   "source": [
    "firstname = input(\"Input your First Name : \");\n",
    "lastname = input(\"Input your Last Name : \");\n",
    "print ( \"Reverse Name is: \"+ lastname + \" \" + firstname);"
   ]
  },
  {
   "cell_type": "code",
   "execution_count": 15,
   "id": "a1c992fe-f50e-497d-bf0c-f36758b633e2",
   "metadata": {},
   "outputs": [
    {
     "name": "stdin",
     "output_type": "stream",
     "text": [
      "Input a Number 12\n",
      "Input a Number 15\n"
     ]
    },
    {
     "name": "stdout",
     "output_type": "stream",
     "text": [
      "27\n"
     ]
    }
   ],
   "source": [
    "a = int (input (\"Input a Number\"));\n",
    "b = int (input (\"Input a Number\"));\n",
    "c= a+b;\n",
    "print (c);"
   ]
  },
  {
   "cell_type": "code",
   "execution_count": 22,
   "id": "9a836e93-e746-40a8-bbba-510792179420",
   "metadata": {},
   "outputs": [
    {
     "name": "stdin",
     "output_type": "stream",
     "text": [
      "Enter Marks of Eng: 76\n",
      "Enter Marks of Math: 45\n",
      "Enter Marks of Isl: 76\n",
      "Enter Marks of Urdu: 88\n",
      "Enter Marks Bio: 89\n"
     ]
    },
    {
     "name": "stdout",
     "output_type": "stream",
     "text": [
      "374\n",
      "74.8\n",
      "Grade B\n"
     ]
    }
   ],
   "source": [
    "Eng = int (input(\"Enter Marks of Eng:\"))\n",
    "Math = int (input(\"Enter Marks of Math:\"))\n",
    "Isl = int (input(\"Enter Marks of Isl:\"))\n",
    "Urdu = int (input(\"Enter Marks of Urdu:\"))\n",
    "Bio = int (input(\"Enter Marks Bio:\"))\n",
    "Obtain = Eng + Math + Isl + Urdu + Bio\n",
    "print (Obtain);\n",
    "Total = 500;\n",
    "percent = Obtain / Total * 100;\n",
    "print (percent);\n",
    "if percent < 100 and percent > 90:\n",
    "    print(\"Grade A+\");\n",
    "elif percent < 90 and percent > 80:\n",
    "    print(\"Grade A\");\n",
    "elif percent < 80 and percent > 70:\n",
    "    print(\"Grade B\")\n",
    "elif percent < 70 and percent > 60:\n",
    "    print(\"Grade C\");\n",
    "elif percent < 60 and percent > 50:\n",
    "    print(\"Grade D\");\n",
    "elif percent < 50 and percent > 40:\n",
    "    print(\"Grade E\");\n",
    "else:\n",
    "    print(\"Fail\");\n"
   ]
  },
  {
   "cell_type": "code",
   "execution_count": 24,
   "id": "cc09f8c3-0924-45c6-9840-16145bdfeedd",
   "metadata": {},
   "outputs": [
    {
     "name": "stdin",
     "output_type": "stream",
     "text": [
      "Enter a Number 26\n"
     ]
    },
    {
     "name": "stdout",
     "output_type": "stream",
     "text": [
      "This is Even Number.\n"
     ]
    }
   ],
   "source": [
    "number = int (input(\"Enter a Number\"));\n",
    "mode = number %2\n",
    "if mode > 0:\n",
    "    print (\"This is an Odd Number.\");\n",
    "else:\n",
    "    print(\"This is Even Number.\");"
   ]
  },
  {
   "cell_type": "code",
   "execution_count": 31,
   "id": "c84918e0-ce52-4797-89c0-97f49e2d7248",
   "metadata": {},
   "outputs": [
    {
     "name": "stdout",
     "output_type": "stream",
     "text": [
      "5\n"
     ]
    }
   ],
   "source": [
    "inp_lst = ['Python','Java','Kotlin','Machine Learning','Keras']\n",
    "size = len(inp_lst)\n",
    "print(size)"
   ]
  },
  {
   "cell_type": "code",
   "execution_count": 34,
   "id": "38faac62-7ed9-4e02-b2fc-168068ff390a",
   "metadata": {},
   "outputs": [
    {
     "name": "stdout",
     "output_type": "stream",
     "text": [
      "12\n"
     ]
    }
   ],
   "source": [
    "def sum_list(items):\n",
    "    sum_numbers = 0\n",
    "    for x in items:\n",
    "        sum_numbers += x\n",
    "    return sum_numbers\n",
    "print(sum_list([1,2,5,4]))"
   ]
  },
  {
   "cell_type": "code",
   "execution_count": 35,
   "id": "7c31eb48-70ae-480c-b76f-2288760d7a91",
   "metadata": {},
   "outputs": [
    {
     "name": "stdout",
     "output_type": "stream",
     "text": [
      "25.6\n"
     ]
    }
   ],
   "source": [
    "def max_num_in_list( list ):\n",
    "    max = list[ 0 ]\n",
    "    for a in list:\n",
    "        if a > max:\n",
    "            max = a\n",
    "    return max\n",
    "print(max_num_in_list([15,10,-25,25.6]))"
   ]
  },
  {
   "cell_type": "code",
   "execution_count": null,
   "id": "086a4f73-45a5-41c0-80b6-7b76acd7d9ed",
   "metadata": {},
   "outputs": [],
   "source": []
  },
  {
   "cell_type": "code",
   "execution_count": null,
   "id": "73c80b7f-df80-489c-882a-fe78f21d6b81",
   "metadata": {},
   "outputs": [],
   "source": []
  },
  {
   "cell_type": "code",
   "execution_count": null,
   "id": "a4be57c6-d3fe-490c-96c2-deac5f7d1cb9",
   "metadata": {},
   "outputs": [],
   "source": []
  }
 ],
 "metadata": {
  "kernelspec": {
   "display_name": "Python 3",
   "language": "python",
   "name": "python3"
  },
  "language_info": {
   "codemirror_mode": {
    "name": "ipython",
    "version": 3
   },
   "file_extension": ".py",
   "mimetype": "text/x-python",
   "name": "python",
   "nbconvert_exporter": "python",
   "pygments_lexer": "ipython3",
   "version": "3.8.8"
  }
 },
 "nbformat": 4,
 "nbformat_minor": 5
}
